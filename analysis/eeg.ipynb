{
 "cells": [
  {
   "cell_type": "code",
   "execution_count": null,
   "metadata": {},
   "outputs": [],
   "source": [
    "%pip install numpy pandas scipy plotly scikit-learn lempel_ziv_complexity ordpy antropy jupytext"
   ]
  },
  {
   "cell_type": "code",
   "execution_count": null,
   "metadata": {},
   "outputs": [],
   "source": [
    "import datetime\n",
    "from pathlib import Path\n",
    "import pandas as pd\n",
    "import numpy as np\n",
    "import json\n",
    "from scipy import signal\n",
    "import plotly.express as px\n",
    "import plotly.graph_objects as go\n",
    "from plotly.subplots import make_subplots\n",
    "import ordpy\n",
    "import antropy\n",
    "\n",
    "from utils import *\n",
    "from mt_spectrogram import multitaper_spectrogram, nanpow2db\n",
    "\n",
    "pd.set_option('display.max_rows', 300)\n",
    "pd.set_option('display.max_columns', 300)\n",
    "pd.set_option('display.max_colwidth', 1000)\n",
    "\n",
    "DATADIR = Path(\"data/bob\")\n",
    "for fn in sorted(list(DATADIR.glob(\"*.json\"))): \n",
    "    print(fn.name)"
   ]
  },
  {
   "cell_type": "code",
   "execution_count": null,
   "metadata": {},
   "outputs": [],
   "source": [
    "DATAMAP = {\n",
    "    \"eo\": \"MuseS-5743_2025-05-08T01:47:05.579Z.json\",\n",
    "    \"ec\": \"MuseS-5743_2025-05-08T01:48:20.341Z.json\",\n",
    "    \"am\": \"MuseS-5743_2025-05-08T01:53:04.158Z.json\",\n",
    "}"
   ]
  },
  {
   "cell_type": "code",
   "execution_count": null,
   "metadata": {},
   "outputs": [],
   "source": []
  },
  {
   "cell_type": "code",
   "execution_count": null,
   "metadata": {},
   "outputs": [],
   "source": [
    "dfs = {}\n",
    "imu_dfs = {}\n",
    "ppg_dfs = {}\n",
    "for cond in DATAMAP:\n",
    "    metadata, eeg_df, motion_df, ppg_df = load_eeg(DATADIR / DATAMAP[cond])\n",
    "    dfs[cond] = eeg_df\n",
    "    imu_dfs[cond] = motion_df\n",
    "    ppg_dfs[cond] = ppg_df"
   ]
  },
  {
   "cell_type": "code",
   "execution_count": null,
   "metadata": {},
   "outputs": [],
   "source": [
    "px.line(dfs[\"eo\"].AF8)"
   ]
  },
  {
   "cell_type": "code",
   "execution_count": null,
   "metadata": {},
   "outputs": [],
   "source": [
    "sdfs = []\n",
    "for cond, df in dfs.items():\n",
    "    for e in df.columns:\n",
    "        f, spec = compute_average_power_spectrum(df[e].values, drop_first_n=1, drop_last_m=1)\n",
    "        tmpdf = pd.DataFrame({\"freq\": f, \"spec\": spec})\n",
    "        tmpdf[\"cond\"] = cond\n",
    "        tmpdf[\"electrode\"] = e\n",
    "        sdfs.append(tmpdf)\n",
    "\n",
    "specdf = pd.concat(sdfs)\n",
    "specdf.head()"
   ]
  },
  {
   "cell_type": "code",
   "execution_count": null,
   "metadata": {},
   "outputs": [],
   "source": [
    "px.line(specdf.loc[specdf.electrode==\"AF8\"], x=\"freq\", y=\"spec\", color=\"cond\")"
   ]
  },
  {
   "cell_type": "code",
   "execution_count": null,
   "metadata": {},
   "outputs": [],
   "source": [
    "bands = {#'Delta': (0, 4),\n",
    "         'Theta': (4, 8),\n",
    "         'Alpha': (8, 12),\n",
    "         'Beta': (12, 30),\n",
    "         'Gamma': (30, 55),\n",
    "         'High-gamma': (65, 100)}\n",
    "\n",
    "eeg_pow = calc_bands_power(dfs[\"ec\"][\"AF7\"], EEG_DT, bands)\n",
    "fig = go.Figure(go.Bar(x=[v for v in eeg_pow.values()], y=[k for k in eeg_pow], orientation='h'))\n",
    "fig.show()"
   ]
  },
  {
   "cell_type": "markdown",
   "metadata": {},
   "source": [
    "## IMU (motion) analysis"
   ]
  },
  {
   "cell_type": "code",
   "execution_count": null,
   "metadata": {},
   "outputs": [],
   "source": [
    "px.line(imu_dfs[\"eo\"], y=[\"gyr_x\", \"gyr_y\", \"gyr_z\"])"
   ]
  },
  {
   "cell_type": "code",
   "execution_count": null,
   "metadata": {},
   "outputs": [],
   "source": []
  },
  {
   "cell_type": "markdown",
   "metadata": {},
   "source": [
    "## PPG (pulseox) analysis"
   ]
  },
  {
   "cell_type": "code",
   "execution_count": null,
   "metadata": {
    "tags": []
   },
   "outputs": [],
   "source": [
    "ppg_dfs[\"eo\"].head()"
   ]
  },
  {
   "cell_type": "code",
   "execution_count": null,
   "metadata": {
    "tags": []
   },
   "outputs": [],
   "source": [
    "ppg_df = ppg_dfs[\"eo\"]\n",
    "cols = [\"ppg0\", \"ppg1\"]\n",
    "HEIGHT = 300\n",
    "peaks = {}\n",
    "for c in cols:\n",
    "    ppg_df[f\"{c}_filt\"] = butter_bandpass_filter(ppg_df[c], .5, 10, PPG_FS, order=6)\n",
    "    peaks[c], _ = signal.find_peaks(ppg_df[f\"{c}_filt\"], height=HEIGHT)\n",
    "    #ppg_df[f\"{c}_peaks\"] = 0\n",
    "    #ppg_df.loc[f\"{c}_peaks\" = 1"
   ]
  },
  {
   "cell_type": "code",
   "execution_count": null,
   "metadata": {
    "tags": []
   },
   "outputs": [],
   "source": [
    "FONTCOLOR = 'rgba(0.4,0.4,0.4,1.0)'\n",
    "GRIDCOLOR = 'rgba(1.0,1.0,1.0,0.3)'\n",
    "FONTSIZE = 16\n",
    "bpm = 60 / np.diff(ppg_df.index[peaks[\"ppg0\"]].values).mean()\n",
    "fig1 = px.line(ppg_df, y=[\"ppg0_filt\"], color_discrete_sequence=[\"rgba(.3,.3,.3,.5)\", \"rgba(.5,.5,.3)\"])\n",
    "fig2 = px.scatter(ppg_df.ppg0_filt.iloc[peaks[\"ppg0\"]], \n",
    "                  color_discrete_sequence=[\"rgba(.6,.4,.1,.7)\", \"rgba(.5,.5,.3)\"])\n",
    "fig = go.Figure(data=fig1.data + fig2.data)\n",
    "fig.update_layout(showlegend=False, # xaxis=dict(range=(10, 40)\n",
    "                  font=dict(size=FONTSIZE, color=FONTCOLOR), \n",
    "                  paper_bgcolor='rgba(0,0,0,0)', plot_bgcolor='rgba(0,0,0,0)',\n",
    "                  margin=dict(l=0, r=40, t=10, b=0),\n",
    "                  xaxis_title=\"Time (seconds)\", yaxis_title=\"PPG (arb.)\",\n",
    "                  height=300, width=900)\n",
    "fig.update_yaxes(linecolor='lightgray', zerolinewidth=1, zerolinecolor=GRIDCOLOR, \n",
    "                 mirror=False, gridcolor=GRIDCOLOR)\n",
    "fig.update_xaxes(linecolor='lightgray', zerolinewidth=1, zerolinecolor=GRIDCOLOR, \n",
    "                 mirror=False, gridcolor=GRIDCOLOR)\n",
    "fig.add_annotation(x=11, y=900, text=f\"heartrate: {bpm:0.1f} bpm\", xanchor=\"left\", yanchor=\"top\", \n",
    "                   showarrow=False)\n",
    "fig"
   ]
  },
  {
   "cell_type": "code",
   "execution_count": null,
   "metadata": {
    "tags": []
   },
   "outputs": [],
   "source": [
    "eeg_df = dfs[\"eo\"]\n",
    "fig = go.Figure()\n",
    "Sxx, t, f, meta = multitaper_spectrogram(eeg_df.TP10.values, EEG_FS, freq_range=(0, 80), ncores=-1)\n",
    "\n",
    "fig.add_trace(go.Heatmap(x=t, y=f, z=Sxx.clip(0, 5), colorscale='Solar'))\n",
    "fig.update_layout(title='Average Multitaper Spectrogram', \n",
    "                  font=dict(size=18),\n",
    "                  yaxis=dict(title='Frequency (Hz)'), \n",
    "                  xaxis=dict(title='Time from start (seconds)'),\n",
    "                  width=900, height=500)\n",
    "fig"
   ]
  },
  {
   "cell_type": "code",
   "execution_count": null,
   "metadata": {
    "tags": []
   },
   "outputs": [],
   "source": []
  },
  {
   "cell_type": "markdown",
   "metadata": {},
   "source": [
    "## EEG Complexity analysis"
   ]
  },
  {
   "cell_type": "code",
   "execution_count": null,
   "metadata": {},
   "outputs": [],
   "source": [
    "ca, cp = lzc(raw.AF7)\n",
    "print(ca, cp)"
   ]
  },
  {
   "cell_type": "code",
   "execution_count": null,
   "metadata": {},
   "outputs": [],
   "source": [
    "time_series = [logistic(a) for a in [3.05, 3.55, 4]]\n",
    "time_series += [np.random.normal(size=100000)]\n",
    "\n",
    "HC = [ordpy.complexity_entropy(series, dx=4) for series in time_series]\n",
    "HC"
   ]
  },
  {
   "cell_type": "code",
   "execution_count": null,
   "metadata": {},
   "outputs": [],
   "source": [
    "#ordpy.permutation_entropy?\n",
    "#ordpy.complexity_entropy?"
   ]
  },
  {
   "cell_type": "code",
   "execution_count": null,
   "metadata": {},
   "outputs": [],
   "source": [
    "n = 1000\n",
    "x = np.sin(np.linspace(0, 100 * np.pi, n)) + np.random.randn(n) * 0.0\n",
    "c = antropy.lziv_complexity(x)\n",
    "ce = ordpy.complexity_entropy(x)\n",
    "print(c, ce)"
   ]
  },
  {
   "cell_type": "code",
   "execution_count": null,
   "metadata": {},
   "outputs": [],
   "source": [
    "win = int(round(8 * EEG_FS))\n",
    "stepwin = int(round(1 * EEG_FS))\n",
    "y = raw[EEG_ELECTRODES].rolling(window=win, center=True, step=stepwin).apply(lzc)\n",
    "y[\"reltime\"] = raw.reltime.groupby(raw.index // stepwin).mean()\n",
    "px.line(y, x=\"reltime\", y=[])"
   ]
  },
  {
   "cell_type": "markdown",
   "metadata": {
    "tags": []
   },
   "source": [
    "# Scraps\n",
    "The rest is likely broken"
   ]
  },
  {
   "cell_type": "markdown",
   "metadata": {},
   "source": [
    "## EEG Spectrogram\n",
    "\n",
    "NOTE: this seems to be broken for modern versions of numpy"
   ]
  },
  {
   "cell_type": "code",
   "execution_count": null,
   "metadata": {},
   "outputs": [],
   "source": [
    "idx = 1\n",
    "EEG_ELECTRODES = dfs[idx].electrode.unique()\n",
    "raw = dfs[idx].pivot(index=['reltime'], columns=['electrode'], values=['samp']).reset_index()\n",
    "raw.columns = [c[1] if c[1] != '' else c[0] for c in raw.columns]\n",
    "raw.dropna(inplace=True)\n",
    "raw.head()"
   ]
  },
  {
   "cell_type": "code",
   "execution_count": null,
   "metadata": {},
   "outputs": [],
   "source": [
    "fig = go.Figure()\n",
    "Sxx, t, f, meta = multitaper_spectrogram(raw.AF7.values, EEG_FS, freq_range=(0, 120), ncores=-1)\n",
    "\n",
    "fig.add_trace(go.Heatmap(x=t, y=f, z=Sxx.clip(-5, 5), colorscale='Solar'))\n",
    "fig.update_layout(title='Average Multitaper Spectrogram', \n",
    "                  font=dict(size=18),\n",
    "                  yaxis=dict(title='Frequency (Hz)'), \n",
    "                  xaxis=dict(title='Time from start (seconds)'))\n",
    "fig"
   ]
  },
  {
   "cell_type": "code",
   "execution_count": null,
   "metadata": {},
   "outputs": [],
   "source": [
    "NPERSEG = 64\n",
    "#IDX = (20.0, 120.0, 145.0, 300.0)\n",
    "IDX = (1.0, 20.0, 25.0, 50.0)\n",
    "\n",
    "fig = go.Figure()\n",
    "idx = (raw.reltime > IDX[0]) & (raw.reltime < IDX[1])\n",
    "f, Cxy = signal.coherence(raw.AF7[idx] + raw.TP9[idx], raw.AF8[idx] + raw.TP10[idx], 256, nperseg=NPERSEG)\n",
    "fig.add_trace(go.Scatter(x=f, y=Cxy, mode='lines', name=f'Task'))\n",
    "idx = (raw.reltime > IDX[2]) & (raw.reltime < IDX[3])\n",
    "f, Cxy = signal.coherence(raw.AF7[idx] + raw.TP9[idx], raw.AF8[idx] + raw.TP10[idx], 256, nperseg=NPERSEG)\n",
    "fig.add_trace(go.Scatter(x=f, y=Cxy, mode='lines', name=f'Rest'))\n",
    "    \n",
    "fig.update_layout(yaxis= {'type': 'log', 'title': 'Coherence'},\n",
    "                  xaxis_title='Frequency',\n",
    "                  legend={'font': {'size': 14}, \n",
    "                          #'title': {'font': {'size': 16}, 'text': 'Measure'},\n",
    "                          'yanchor': 'bottom', 'y': 0.05, 'xanchor': 'center', 'x': 0.5},\n",
    "                  title='Fronto-temporal Coherence',\n",
    "                  font={'size': 18})\n",
    "\n",
    "fig.show()"
   ]
  },
  {
   "cell_type": "code",
   "execution_count": null,
   "metadata": {},
   "outputs": [],
   "source": [
    "NPERSEG = 64\n",
    "#IDX = (20.0, 120.0, 145.0, 300.0)\n",
    "IDX = (1.0, 16.0, 22.0, 55.0)\n",
    "\n",
    "fig = go.Figure()\n",
    "for k in [('E0', 'E1'), ('E3', 'E2')]:\n",
    "    idx = (raw.reltime > IDX[0]) & (raw.reltime < IDX[1])\n",
    "    f, Cxy = signal.coherence(raw[k[0]][idx], raw[k[1]][idx], 256, nperseg=NPERSEG)\n",
    "    fig.add_trace(go.Scatter(x=f, y=Cxy, mode='lines', name=f'Task {k[0]} v. {k[1]}'))\n",
    "    idx = (raw.reltime > IDX[2]) & (raw.reltime < IDX[3])\n",
    "    f, Cxy = signal.coherence(raw[k[0]][idx], raw[k[1]][idx], 256, nperseg=NPERSEG)\n",
    "    fig.add_trace(go.Scatter(x=f, y=Cxy, mode='lines', name=f'Rest {k[0]} v. {k[1]}'))\n",
    "    \n",
    "fig.update_layout(yaxis= {'type': 'log', 'title': 'Coherence'},\n",
    "                  xaxis_title='Frequency',\n",
    "                  legend={'font': {'size': 14}, \n",
    "                          #'title': {'font': {'size': 16}, 'text': 'Measure'},\n",
    "                          'yanchor': 'bottom', 'y': 0.05, 'xanchor': 'center', 'x': 0.5},\n",
    "                  title='Coherence',\n",
    "                  font={'size': 18})\n",
    "\n",
    "fig.show()"
   ]
  },
  {
   "cell_type": "code",
   "execution_count": null,
   "metadata": {},
   "outputs": [],
   "source": [
    "from numpy_ext import rolling_apply\n",
    "\n",
    "def coherence(x, y):\n",
    "    f, Cxy = signal.coherence(x, y, 256, nperseg=NPERSEG)\n",
    "    return f, Cxy\n",
    "\n",
    "df = raw.copy().set_index('samp')\n",
    "\n",
    "#df[['f', 'Cxy']] = rolling_apply(coherence, , df.AF7.values, df.TP9.values)\n",
    "#locdf[['dist', 'bearing']] = pd.DataFrame(np.row_stack(np.vectorize(dist_az, otypes=['O'])(\n",
    "#    locdf['latitude'], locdf['longitude'], locdf['homelat'], locdf['homelon'])), index=locdf.index)\n",
    "#print(df)"
   ]
  },
  {
   "cell_type": "code",
   "execution_count": null,
   "metadata": {},
   "outputs": [],
   "source": [
    "fig = make_subplots(rows=3, cols=1, subplot_titles=('Sensors', 'Raw EEG', 'Muse Bands'))\n",
    "#fig = go.Figure(go.Bar(y=statdf.index, x=statdf['User-days'], orientation='h'))\n",
    "\n",
    "for v in ['x', 'y', 'z']:\n",
    "    fig.add_trace(go.Scatter(x=acc.samp, y=acc[v], name=f'Accel {v.upper()}'), row=1, col=1)\n",
    "    fig.add_trace(go.Scatter(x=gyr.samp, y=gyr[v], name=f'Gyro {v.upper()}', yaxis='y2'), row=1, col=1)\n",
    "fig.update_xaxes(title_text=\"Time\", row=1, col=1)\n",
    "fig.update_yaxes(title_text=\"Accelerometer (m/s/s)\", row=1, col=1, secondary_y=False)\n",
    "fig.update_yaxes(title_text=\"Gyro (rad/s)\", row=1, col=1, secondary_y=True, anchor='x',\n",
    "                 overlaying='y', side='right')\n",
    "\n",
    "for v in ['TP9', 'AF7', 'AF8', 'TP10']: #, 'Aux']:\n",
    "    fig.add_trace(go.Scatter(x=raw.samp, y=raw[v], name=f'{v.upper()}', opacity=0.5), row=2, col=1)\n",
    "fig.update_xaxes(title_text=\"Time\", row=2, col=1)\n",
    "\n",
    "#for v in ['delta', 'theta', 'alpha', 'beta', 'gamma']:\n",
    "#    tmp = band.loc[bands.band == v, :].copy().reset_index()\n",
    "#    tmp['samp'] = tmp.index / SEN_FS\n",
    "#    fig.add_trace(go.Scatter(x=tmp.samp, y=tmp.AF7 + tmp.AF8 + tmp.TP9 + tmp.TP10, name=f'{v}'), row=3, col=1)\n",
    "#fig.update_xaxes(title_text=\"Time\", row=3, col=1)\n",
    "\n",
    "fig.update_layout(height=1000, \n",
    "                  title='Muse EEG', \n",
    "                  #showlegend=False,\n",
    "                  font={'size': 18})\n",
    "\n",
    "fig.show() "
   ]
  },
  {
   "cell_type": "code",
   "execution_count": null,
   "metadata": {},
   "outputs": [],
   "source": []
  },
  {
   "cell_type": "code",
   "execution_count": null,
   "metadata": {},
   "outputs": [],
   "source": [
    "# WORK IN PROGRESS\n",
    "# may be able to simplify data loading for eeg and ppg\n",
    "def parse_jsn(jsn, dt, nsamp, seq_name=\"index\", chan_name=\"electrode\"):\n",
    "    dfs = []\n",
    "\n",
    "    seq_start = jsn[0][seq_name]\n",
    "    for d in jsn:\n",
    "        tmpdf = pd.DataFrame([{\"chan\": d[chan_name], \"value\": s,} \n",
    "                              for i, s in enumerate(d[\"samples\"])])\n",
    "        relseq_time = (d[\"index\"] - seq_start) * dt * nsamp\n",
    "        tmpdf[\"reltime\"] = [dt * i + relseq_time for i in range(nsamp)]\n",
    "        dfs.append(tmpdf)\n",
    "    df = pd.concat(dfs).pivot(index=\"reltime\", chan_name=\"electrode\", values=\"value\")"
   ]
  }
 ],
 "metadata": {
  "kernelspec": {
   "display_name": "Python 3 (ipykernel)",
   "language": "python",
   "name": "python3"
  },
  "language_info": {
   "codemirror_mode": {
    "name": "ipython",
    "version": 3
   },
   "file_extension": ".py",
   "mimetype": "text/x-python",
   "name": "python",
   "nbconvert_exporter": "python",
   "pygments_lexer": "ipython3",
   "version": "3.13.3"
  }
 },
 "nbformat": 4,
 "nbformat_minor": 4
}
